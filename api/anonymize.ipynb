{
 "cells": [
  {
   "cell_type": "code",
   "execution_count": 10,
   "metadata": {},
   "outputs": [],
   "source": [
    "import spacy\n",
    "from copy import deepcopy"
   ]
  },
  {
   "cell_type": "code",
   "execution_count": 5,
   "metadata": {},
   "outputs": [],
   "source": [
    "model = spacy.load('models/en')"
   ]
  },
  {
   "cell_type": "code",
   "execution_count": 6,
   "metadata": {},
   "outputs": [],
   "source": [
    "text = \"Roman is a great guy. He lives in Aalborg, Denmark. He works at Aalborg University.\""
   ]
  },
  {
   "cell_type": "code",
   "execution_count": 8,
   "metadata": {},
   "outputs": [
    {
     "name": "stdout",
     "output_type": "stream",
     "text": [
      "Roman ORG\n",
      "Aalborg GPE\n",
      "Denmark GPE\n",
      "Aalborg University ORG\n"
     ]
    }
   ],
   "source": [
    "# get the entities\n",
    "doc = model(text)\n",
    "for ent in doc.ents:\n",
    "    print(ent.text, ent.label_)"
   ]
  },
  {
   "cell_type": "code",
   "execution_count": 17,
   "metadata": {},
   "outputs": [],
   "source": [
    "def anonymize_text(text: str, model):\n",
    "    doc = model(text)\n",
    "\n",
    "    entities = [\n",
    "        {\n",
    "            \"start\": ent.start_char,\n",
    "            \"end\": ent.end_char,\n",
    "            \"type\": ent.label_,\n",
    "            \"text\": ent.text,\n",
    "        }\n",
    "        for ent in doc.ents\n",
    "    ]\n",
    "\n",
    "    anonymized_text = list(deepcopy(text))\n",
    "\n",
    "    for entity in entities:\n",
    "        start = entity[\"start\"]\n",
    "        end = entity[\"end\"]\n",
    "        anonymized_text[start:end] = \"X\" * (end - start)\n",
    "\n",
    "    anonymized_text = \"\".join(anonymized_text)\n",
    "    return {\"entities\": entities, \"anonymized_text\": anonymized_text}"
   ]
  },
  {
   "cell_type": "code",
   "execution_count": 19,
   "metadata": {},
   "outputs": [
    {
     "data": {
      "text/plain": [
       "{'entities': [{'start': 0, 'end': 5, 'type': 'ORG', 'text': 'Roman'},\n",
       "  {'start': 34, 'end': 41, 'type': 'GPE', 'text': 'Aalborg'},\n",
       "  {'start': 43, 'end': 50, 'type': 'GPE', 'text': 'Denmark'},\n",
       "  {'start': 64, 'end': 82, 'type': 'ORG', 'text': 'Aalborg University'}],\n",
       " 'anonymized_text': 'XXXXX is a great guy. He lives in XXXXXXX, XXXXXXX. He works at XXXXXXXXXXXXXXXXXX.'}"
      ]
     },
     "execution_count": 19,
     "metadata": {},
     "output_type": "execute_result"
    }
   ],
   "source": [
    "anonymize_text(text, model)"
   ]
  }
 ],
 "metadata": {
  "kernelspec": {
   "display_name": "Python 3",
   "language": "python",
   "name": "python3"
  },
  "language_info": {
   "codemirror_mode": {
    "name": "ipython",
    "version": 3
   },
   "file_extension": ".py",
   "mimetype": "text/x-python",
   "name": "python",
   "nbconvert_exporter": "python",
   "pygments_lexer": "ipython3",
   "version": "3.9.12"
  },
  "orig_nbformat": 4
 },
 "nbformat": 4,
 "nbformat_minor": 2
}
